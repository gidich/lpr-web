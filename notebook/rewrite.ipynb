{
 "cells": [
  {
   "cell_type": "code",
   "execution_count": 30,
   "metadata": {},
   "outputs": [
    {
     "name": "stdout",
     "output_type": "stream",
     "text": [
      "configuration loaded\n"
     ]
    }
   ],
   "source": [
    "// Source adapted from: https://dev.to/andreygermanov/how-to-create-yolov8-based-object-detection-web-service-using-python-julia-nodejs-javascript-go-and-rust-4o8e#process_the_output_nodejs\n",
    "interface Config {\n",
    "    modelPath: string;\n",
    "    modelInputWidth: number;\n",
    "    modelInputHeight: number;\n",
    "    sourceImage: string;\n",
    "    destinationImage: string;\n",
    "    modelClassNames: string[];\n",
    "}\n",
    "\n",
    "const modelConfig:Config = {\n",
    "    modelPath: './models/lpr-8n.onnx',\n",
    "    modelInputWidth: 640,\n",
    "    modelInputHeight: 640,\n",
    "    sourceImage: './sample-images/car-with-licenseplate-resized.jpeg', //./sample-images/pass-me.jpg\n",
    "    destinationImage: './sample-images/pass-me-detected2.png',\n",
    "    modelClassNames: ['license plate']\n",
    "};\n",
    "console.log('configuration loaded');"
   ]
  },
  {
   "cell_type": "code",
   "execution_count": 31,
   "metadata": {},
   "outputs": [
    {
     "name": "stdout",
     "output_type": "stream",
     "text": [
      "Image data prepared: 1228800 elements\n"
     ]
    }
   ],
   "source": [
    "const sharp = require('sharp') as typeof import('sharp');\n",
    "\n",
    "interface ImageData {\n",
    "    input: number[];\n",
    "    width: number;\n",
    "    height: number;\n",
    "}\n",
    "\n",
    "const prepareImage = async (imagePath: string, modelInputWidth:number, modelInputHeight:number): Promise<ImageData> => {\n",
    "    // load config.sourceImage from disk into sharp\n",
    "    const image = sharp(imagePath);\n",
    "    const imageMetadata = await image.metadata();\n",
    "    const [width, height] = [imageMetadata.width, imageMetadata.height];\n",
    "    if(!width || !height) throw new Error('Could not read image dimensions');\n",
    "    const pixels = await image.removeAlpha() // remove alpha channel, model accepts RGB only\n",
    "        .resize({width: modelInputWidth, height: modelInputHeight, fit: 'fill'}) // resize to fit model dimensions\n",
    "        .raw()\n",
    "        .toBuffer(); // convert to a single array of pixels\n",
    "\n",
    "    const red:number[] = [], green:number[] = [], blue:number[] = [];\n",
    "    for(let index = 0; index < pixels.length; index += 3) {\n",
    "        red.push(pixels[index]/255.0); // normalize to [0, 1] by dividing by 255\n",
    "        green.push(pixels[index + 1]/255.0); // normalize to [0, 1] by dividing by 255\n",
    "        blue.push(pixels[index + 2]/255.0);// normalize to [0, 1] by dividing by 255\n",
    "    }\n",
    "    const input = [...red, ...green, ...blue] ; // concat RGB channels into a single array\n",
    "\n",
    "    return {\n",
    "        input, width, height};\n",
    "}\n",
    "\n",
    "const imageData:ImageData = await prepareImage(modelConfig.sourceImage, modelConfig.modelInputWidth, modelConfig.modelInputHeight);\n",
    "console.log(`Image data prepared: ${imageData.input.length} elements`);\n",
    "\n",
    "export {}"
   ]
  },
  {
   "cell_type": "code",
   "execution_count": 32,
   "metadata": {},
   "outputs": [
    {
     "name": "stdout",
     "output_type": "stream",
     "text": [
      "{\n",
      "  output0: h {\n",
      "    dims: [ 1, 5, 8400 ],\n",
      "    type: 'float32',\n",
      "    data: Float32Array(42000) [\n",
      "      11.964938163757324, 11.403425216674805, 11.809263229370117,\n",
      "       20.26769256591797,  42.34498596191406,  59.78722381591797,\n",
      "      53.838314056396484, 48.435482025146484,  45.66758728027344,\n",
      "      45.500701904296875,  56.43748474121094,   68.0949478149414,\n",
      "       115.5863037109375, 115.85722351074219, 123.11265563964844,\n",
      "      124.60860443115234, 128.12933349609375, 137.31182861328125,\n",
      "       142.8465118408203,  147.3687744140625,  149.6078338623047,\n",
      "       160.6686553955078, 183.00067138671875, 196.51751708984375,\n",
      "      197.77696228027344, 198.23965454101562, 200.84410095214844,\n",
      "        200.899169921875,  201.9393768310547, 207.68527221679688,\n",
      "      214.67669677734375, 221.81927490234375,  229.3299560546875,\n",
      "      248.27902221679688, 267.56146240234375, 284.56939697265625,\n",
      "       302.1208801269531, 308.80657958984375,  311.3423767089844,\n",
      "       315.9258117675781,  321.5726318359375,    325.38232421875,\n",
      "       330.3341979980469,    336.98095703125, 344.99639892578125,\n",
      "       354.2757873535156,  361.9605712890625,  366.2445068359375,\n",
      "      374.50421142578125,  380.0294494628906,  381.1555480957031,\n",
      "            382.62890625,  395.0853271484375, 423.19952392578125,\n",
      "      437.91644287109375,   443.591064453125,   449.425048828125,\n",
      "       478.9851379394531,  489.4518127441406,  493.3208923339844,\n",
      "       496.6359558105469,  499.4120788574219,      504.794921875,\n",
      "         512.66748046875,   516.477783203125,    525.97216796875,\n",
      "        534.589599609375,  532.6390991210938,  525.8980712890625,\n",
      "         528.70458984375,    571.19580078125,  592.2269287109375,\n",
      "       592.5064697265625,  598.8084716796875,  601.0304565429688,\n",
      "          602.0361328125,  601.4288330078125,  601.2987670898438,\n",
      "        601.899169921875,  600.8043212890625, 13.385125160217285,\n",
      "      13.499034881591797, 15.219027519226074, 21.083084106445312,\n",
      "      51.299407958984375,  57.57420349121094,      55.2861328125,\n",
      "       49.22968292236328, 56.511619567871094,  61.94895935058594,\n",
      "       76.93797302246094,  65.57814025878906,  91.11820983886719,\n",
      "       106.8646240234375, 104.25196838378906,   108.344970703125,\n",
      "      120.33680725097656,     131.9736328125, 142.55459594726562,\n",
      "      150.05221557617188,\n",
      "      ... 41900 more items\n",
      "    ],\n",
      "    size: 42000\n",
      "  }\n",
      "}\n",
      "Model run output: 42000 elements\n"
     ]
    }
   ],
   "source": [
    "const ort = require('onnxruntime-node') as typeof import('onnxruntime-node'); // onnyruntime-web\n",
    "\n",
    "const runModel = async (modelPath:string,modelWidth:number, modelHeight:number, input:number[]): Promise<Float32Array> => {\n",
    "  const session = await ort.InferenceSession.create(modelPath);\n",
    "  const imageTensor = new ort.Tensor(Float32Array.from(input), [1, 3, modelHeight, modelWidth]);\n",
    "  const outputs = await session.run({images: imageTensor});\n",
    "  console.log(outputs);\n",
    "  return outputs['output0'].data as Float32Array;\n",
    "}\n",
    "\n",
    "const modelOutput = await runModel(modelConfig.modelPath,modelConfig.modelInputWidth, modelConfig.modelInputHeight, imageData.input)\n",
    "console.log(`Model run output: ${modelOutput.length} elements`)\n",
    "\n",
    "export {}"
   ]
  },
  {
   "cell_type": "code",
   "execution_count": 33,
   "metadata": {},
   "outputs": [
    {
     "name": "stdout",
     "output_type": "stream",
     "text": [
      "functions defined\n"
     ]
    }
   ],
   "source": [
    "function iou(box1,box2) {\n",
    "    return intersection(box1,box2)/union(box1,box2);\n",
    "}\n",
    "\n",
    "function union(box1,box2) {\n",
    "    const [box1_x1,box1_y1,box1_x2,box1_y2] = box1;\n",
    "    const [box2_x1,box2_y1,box2_x2,box2_y2] = box2;\n",
    "    const box1_area = (box1_x2-box1_x1)*(box1_y2-box1_y1)\n",
    "    const box2_area = (box2_x2-box2_x1)*(box2_y2-box2_y1)\n",
    "    return box1_area + box2_area - intersection(box1,box2)\n",
    "}\n",
    "\n",
    "function intersection(box1,box2) {\n",
    "    const [box1_x1,box1_y1,box1_x2,box1_y2] = box1;\n",
    "    const [box2_x1,box2_y1,box2_x2,box2_y2] = box2;\n",
    "    const x1 = Math.max(box1_x1,box2_x1);\n",
    "    const y1 = Math.max(box1_y1,box2_y1);\n",
    "    const x2 = Math.min(box1_x2,box2_x2);\n",
    "    const y2 = Math.min(box1_y2,box2_y2);\n",
    "    return (x2-x1)*(y2-y1)\n",
    "}\n",
    "\n",
    "console.log('functions defined');"
   ]
  },
  {
   "cell_type": "code",
   "execution_count": 34,
   "metadata": {},
   "outputs": [
    {
     "name": "stdout",
     "output_type": "stream",
     "text": [
      "boxes - count: 10\n",
      "arrayResult - count: 1\n",
      "arrayResult - first item: [243,213,424,324,\"license plate\",0.8836046457290649]\n"
     ]
    }
   ],
   "source": [
    "\n",
    "function process_output(output, img_width, img_height,classNames: string[]) {\n",
    "    //initialize the result array in the format of [x1,y1,x2,y2,label,prob] making it TypeSafe\n",
    "    let boxes:[number,number,number,number,string,number][] = [];\n",
    "\n",
    "    for (let index=0;index<8400;index++) {\n",
    "        const [classId,prob] = ([...Array(80).keys()] as [number,number])\n",
    "            .map(col => [col, output[8400*(col+4)+index]])\n",
    "            .reduce((accum, item) => item[1]>accum[1] ? item : accum,[0,0]);\n",
    "        if (prob  < 0.5) {\n",
    "            continue;\n",
    "        }\n",
    "        const label = classNames[classId];\n",
    "        const xc = output[index];\n",
    "        const yc = output[8400+index];\n",
    "        const w = output[2*8400+index];\n",
    "        const h = output[3*8400+index];\n",
    "        const x1 = Math.round((xc-w/2)/640*img_width);\n",
    "        const y1 = Math.round((yc-h/2)/640*img_height);\n",
    "        const x2 = Math.round((xc+w/2)/640*img_width);\n",
    "        const y2 = Math.round((yc+h/2)/640*img_height);\n",
    "        boxes.push([x1,y1,x2,y2,label,prob]);\n",
    "    }\n",
    "    console.log(`boxes - count: ${boxes.length}`);\n",
    "    boxes = boxes.sort((box1,box2) => box2[5]-box1[5])\n",
    "    const result:[number,number,number,number,string,number][] = [];\n",
    "    while (boxes.length>0) {\n",
    "        result.push(boxes[0]);\n",
    "        boxes = boxes.filter(box => iou(boxes[0],box)<0.7);\n",
    "    }\n",
    "    return result;\n",
    "}\n",
    "\n",
    "const arrayResult = process_output(modelOutput, imageData.width, imageData.height,modelConfig.modelClassNames);\n",
    "console.log(`arrayResult - count: ${arrayResult.length}`);\n",
    "console.log(`arrayResult - first item: ${JSON.stringify(arrayResult[0])}`);\n"
   ]
  },
  {
   "cell_type": "code",
   "execution_count": 35,
   "metadata": {},
   "outputs": [
    {
     "name": "stdout",
     "output_type": "stream",
     "text": [
      "DOM Initialized to allow canvas and image\n"
     ]
    },
    {
     "name": "stdout",
     "output_type": "stream",
     "text": [
      "The PNG file was created.\n"
     ]
    }
   ],
   "source": [
    "const { JSDOM } = require('jsdom') as typeof import('jsdom');\n",
    "const { Canvas, createCanvas, Image, ImageData, loadImage } = require('canvas') as typeof import('canvas');\n",
    "const jo = require('jpeg-autorotate') as typeof import('jpeg-autorotate');\n",
    "import fs from 'fs';\n",
    "\n",
    "function installDOM() {\n",
    "  const dom = new JSDOM();\n",
    "  global.document = dom.window.document;\n",
    "  // The rest enables DOM image and canvas and is provided by node-canvas\n",
    "  global.Image = Image;\n",
    "  global.HTMLCanvasElement = Canvas;\n",
    "  global.ImageData = ImageData;\n",
    "  global.HTMLImageElement = Image;\n",
    "}\n",
    "\n",
    "installDOM();\n",
    "\n",
    "async function prepare_input(imgPath,boxes:[number, number, number, number, string, number][]) {\n",
    "    let buffer = fs.readFileSync(imgPath);\n",
    "    const img = await loadImage(buffer);\n",
    "          \n",
    "          const canvas = createCanvas(img.width, img.height);\n",
    "          const ctx = canvas.getContext(\"2d\");\n",
    "          ctx.drawImage(img,0,0);\n",
    "              ctx.strokeStyle = \"#00FF00\";\n",
    "              ctx.lineWidth = 3;\n",
    "              ctx.font = \"18px serif\";\n",
    "              boxes.forEach(([x1,y1,x2,y2,label]) => {\n",
    "                  ctx.strokeRect(x1,y1,x2-x1,y2-y1);\n",
    "                  ctx.fillStyle = \"#00ff00\";\n",
    "                  const width = ctx.measureText(label).width;\n",
    "                  ctx.fillRect(x1,y1,width+10,25);\n",
    "                  ctx.fillStyle = \"#000000\";\n",
    "                  ctx.fillText(label, x1, y1+18);\n",
    "              });\n",
    "          //write canvas to file\n",
    "          const out = fs.createWriteStream(modelConfig.destinationImage);\n",
    "          const stream = canvas.createPNGStream();\n",
    "          stream.pipe(out);\n",
    "          out.on('finish', () =>  console.log('The PNG file was created.'));\n",
    "\n",
    "}\n",
    "\n",
    "await prepare_input(modelConfig.sourceImage,arrayResult)\n",
    "console.log('DOM Initialized to allow canvas and image');\n",
    "\n",
    "export {}"
   ]
  }
 ],
 "metadata": {
  "kernelspec": {
   "display_name": "TypeScript",
   "language": "typescript",
   "name": "tslab"
  },
  "language_info": {
   "codemirror_mode": {
    "mode": "typescript",
    "name": "javascript",
    "typescript": true
   },
   "file_extension": ".ts",
   "mimetype": "text/typescript",
   "name": "typescript",
   "version": "3.7.2"
  },
  "orig_nbformat": 4
 },
 "nbformat": 4,
 "nbformat_minor": 2
}
