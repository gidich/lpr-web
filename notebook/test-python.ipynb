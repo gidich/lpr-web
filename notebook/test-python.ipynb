{
 "cells": [
  {
   "cell_type": "code",
   "execution_count": 12,
   "metadata": {},
   "outputs": [
    {
     "name": "stderr",
     "output_type": "stream",
     "text": [
      "\n",
      "image 1/1 /Volumes/files/src/lpr-web/notebook/sample-images/car-with-licenseplate.jpeg: 640x480 1 0, 60.6ms\n",
      "Speed: 2.5ms preprocess, 60.6ms inference, 0.7ms postprocess per image at shape (1, 3, 640, 480)\n"
     ]
    }
   ],
   "source": [
    "from ultralytics import YOLO\n",
    "from PIL import Image\n",
    "\n",
    "# Load a model\n",
    "model = YOLO('./models/lpr-8n.pt')  # pretrained YOLOv8n model\n",
    "\n",
    "# Run batched inference on a list of images\n",
    "results = model('./sample-images/car-with-licenseplate.jpeg')  # return a list of Results objects\n",
    "\n",
    "\n",
    "# Process results list\n",
    "#for result in results:\n",
    "#    boxes = result.boxes  # Boxes object for bbox outputs\n",
    "#    masks = result.masks  # Masks object for segmentation masks outputs\n",
    "#    keypoints = result.keypoints  # Keypoints object for pose outputs\n",
    "#    probs = result.probs  # Probs object for classification outputs\n",
    "\n",
    "\n",
    "#print(results[0])  # print results as pandas DataFrame\n",
    "for r in results:\n",
    "    im_array = r.plot()  # plot a BGR numpy array of predictions\n",
    "    im = Image.fromarray(im_array[..., ::-1])  # RGB PIL image\n",
    "    im.show()  # show image\n",
    "    im.save('./sample-images/results.jpg')  # save image"
   ]
  }
 ],
 "metadata": {
  "kernelspec": {
   "display_name": "Python 3",
   "language": "python",
   "name": "python3"
  },
  "language_info": {
   "codemirror_mode": {
    "name": "ipython",
    "version": 3
   },
   "file_extension": ".py",
   "mimetype": "text/x-python",
   "name": "python",
   "nbconvert_exporter": "python",
   "pygments_lexer": "ipython3",
   "version": "3.11.4"
  },
  "orig_nbformat": 4
 },
 "nbformat": 4,
 "nbformat_minor": 2
}
